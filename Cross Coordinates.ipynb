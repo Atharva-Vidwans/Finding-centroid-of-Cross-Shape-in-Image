{
 "cells": [
  {
   "cell_type": "code",
   "execution_count": 1,
   "metadata": {},
   "outputs": [],
   "source": [
    "#Importing necessary files \n",
    "\n",
    "import cv2 \n",
    "import numpy as np\n",
    "import matplotlib.pyplot as plt"
   ]
  },
  {
   "cell_type": "code",
   "execution_count": 2,
   "metadata": {},
   "outputs": [],
   "source": [
    "#Reading the image 'Problem statement'\n",
    "\n",
    "img = cv2.imread('Problem statement.png') "
   ]
  },
  {
   "cell_type": "code",
   "execution_count": 3,
   "metadata": {},
   "outputs": [
    {
     "data": {
      "text/plain": [
       "<matplotlib.image.AxesImage at 0x232a60da988>"
      ]
     },
     "execution_count": 3,
     "metadata": {},
     "output_type": "execute_result"
    },
    {
     "data": {
      "image/png": "[encoded data removed]",
      "text/plain": [
       "<Figure size 432x288 with 1 Axes>"
      ]
     },
     "metadata": {
      "needs_background": "light"
     },
     "output_type": "display_data"
    }
   ],
   "source": [
    "# Convert to RGB\n",
    "image = cv2.cvtColor(img, cv2.COLOR_BGR2RGB)    \n",
    "\n",
    "# Convert to Grayscale\n",
    "gray = cv2.cvtColor(image, cv2.COLOR_RGB2GRAY)  \n",
    "\n",
    "# Create a binary thresholded image\n",
    "_, binary = cv2.threshold(gray, 10, 255, cv2.THRESH_BINARY_INV)\n",
    "\n",
    "# Display the Image\n",
    "plt.imshow(binary, cmap=\"gray\") \n",
    "\n"
   ]
  },
  {
   "cell_type": "code",
   "execution_count": 4,
   "metadata": {},
   "outputs": [
    {
     "data": {
      "text/plain": [
       "<matplotlib.image.AxesImage at 0x232a61f9948>"
      ]
     },
     "execution_count": 4,
     "metadata": {},
     "output_type": "execute_result"
    },
    {
     "data": {
      "image/png": "[encoded data removed]",
      "text/plain": [
       "<Figure size 432x288 with 1 Axes>"
      ]
     },
     "metadata": {
      "needs_background": "light"
     },
     "output_type": "display_data"
    }
   ],
   "source": [
    "# Contours in the image\n",
    "contours, hierarchy = cv2.findContours(binary, cv2.RETR_TREE, cv2.CHAIN_APPROX_SIMPLE)\n",
    "\n",
    "#Drawing the contours on the images\n",
    "Image = cv2.drawContours(image, contours, -1, (0, 255, 0), 2)\n",
    "plt.imshow(Image)"
   ]
  },
  {
   "cell_type": "code",
   "execution_count": 5,
   "metadata": {},
   "outputs": [],
   "source": [
    "# To check whether the contour is a cross or not\n",
    "IsCross=[]                        \n",
    "for i in range(len(contours)):\n",
    "    x,y,w,h = cv2.boundingRect(contours[i])\n",
    "    if (len(contours[i])==16 and (abs(h-w) < 20)) :  # a cross has breadth and height of the bounding box almost equal \n",
    "                                                     # and the points of the contours are always equal to 16 in case of a cross\n",
    "                                                     # Using the above properties to find out whether the figure is a cross or not\n",
    "        IsCross.append(1)     # if yes then '1' is stored\n",
    "    else:\n",
    "        IsCross.append(0)     # else '0' is stored"
   ]
  },
  {
   "cell_type": "code",
   "execution_count": 6,
   "metadata": {},
   "outputs": [],
   "source": [
    "X=[]\n",
    "Y=[]\n",
    "for i in range(len(contours)):\n",
    "    if IsCross[i] == 1 : \n",
    "        M = cv2.moments(contours[i])         # Calculate the moments of the contours\n",
    "        Y.append(int(M[\"m10\"] / M[\"m00\"]))   # By using moments calculating the X Co-ordinate of Centroid of that contour\n",
    "        X.append(int(M[\"m01\"] / M[\"m00\"]))   # Similarly calculating the Y Co-ordinate of Centroid of that contour\n",
    "    else:\n",
    "        pass"
   ]
  },
  {
   "cell_type": "code",
   "execution_count": 7,
   "metadata": {},
   "outputs": [
    {
     "data": {
      "text/plain": [
       "<matplotlib.image.AxesImage at 0x232a651ce48>"
      ]
     },
     "execution_count": 7,
     "metadata": {},
     "output_type": "execute_result"
    },
    {
     "data": {
      "image/png": "[encoded data removed]",
      "text/plain": [
       "<Figure size 432x288 with 1 Axes>"
      ]
     },
     "metadata": {
      "needs_background": "light"
     },
     "output_type": "display_data"
    }
   ],
   "source": [
    "count=1\n",
    "for i in range(len(contours)):\n",
    "    if IsCross[i] == 1:\n",
    "        x,y,w,h = cv2.boundingRect(contours[i])\n",
    "        img=cv2.rectangle(Image,(x,y),(x+w,y+h),(255,0,0),2)     # Drawing the bounding box on the cross\n",
    "        cv2.putText(img,str(count),(x,y),cv2.FONT_HERSHEY_COMPLEX,1.5,(255,0,0),3)  # Wrtitng the Index number of the Cross\n",
    "        count+=1\n",
    "plt.imshow(img)        # Display final Image"
   ]
  },
  {
   "cell_type": "code",
   "execution_count": 8,
   "metadata": {},
   "outputs": [
    {
     "data": {
      "text/plain": [
       "[(772, 562), (301, 425), (936, 272), (150, 261), (512, 187)]"
      ]
     },
     "execution_count": 8,
     "metadata": {},
     "output_type": "execute_result"
    }
   ],
   "source": [
    "Coordinates=list(zip(Y, X))\n",
    "Coordinates                       # Co-ordinates of Centroid of Cross respective to their Index given in Displayed Image"
   ]
  },
  {
   "cell_type": "code",
   "execution_count": null,
   "metadata": {},
   "outputs": [],
   "source": []
  }
 ],
 "metadata": {
  "kernelspec": {
   "display_name": "Python 3",
   "language": "python",
   "name": "python3"
  },
  "language_info": {
   "codemirror_mode": {
    "name": "ipython",
    "version": 3
   },
   "file_extension": ".py",
   "mimetype": "text/x-python",
   "name": "python",
   "nbconvert_exporter": "python",
   "pygments_lexer": "ipython3",
   "version": "3.7.6"
  }
 },
 "nbformat": 4,
 "nbformat_minor": 4
}
